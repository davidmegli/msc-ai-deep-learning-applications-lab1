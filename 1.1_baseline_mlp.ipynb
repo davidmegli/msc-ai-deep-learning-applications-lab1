{
 "cells": [
  {
   "cell_type": "markdown",
   "id": "bd7f5174",
   "metadata": {},
   "source": [
    "# Simple MLP"
   ]
  },
  {
   "cell_type": "code",
   "execution_count": null,
   "id": "116a044e",
   "metadata": {},
   "outputs": [],
   "source": [
    "# Getting currend working directory -> Adding it to Path (to be able to import local modules)\n",
    "import os\n",
    "import sys\n",
    "# Getting parent directory of current working directory\n",
    "nb_dir = os.path.split(os.getcwd())[0]\n",
    "if nb_dir not in sys.path:\n",
    "    # Adding parent directory to path\n",
    "    sys.path.append(nb_dir)\n",
    "\n",
    "# Importing local modules\n",
    "from utils import*\n",
    "from models import*"
   ]
  },
  {
   "cell_type": "markdown",
   "id": "73162e1e",
   "metadata": {},
   "source": [
    "# Training the model\n",
    "Edit the config file if needed"
   ]
  },
  {
   "cell_type": "code",
   "execution_count": null,
   "id": "eaec3326",
   "metadata": {},
   "outputs": [],
   "source": [
    "!python train.py --config configs/config_param_mlp.yaml"
   ]
  }
 ],
 "metadata": {
  "kernelspec": {
   "display_name": "base",
   "language": "python",
   "name": "python3"
  },
  "language_info": {
   "name": "python",
   "version": "3.10.9"
  }
 },
 "nbformat": 4,
 "nbformat_minor": 5
}
